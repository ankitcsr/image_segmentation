{
  "nbformat": 4,
  "nbformat_minor": 0,
  "metadata": {
    "colab": {
      "name": "Gland_Segmentation.ipynb",
      "provenance": [],
      "collapsed_sections": [],
      "include_colab_link": true
    },
    "kernelspec": {
      "name": "python3",
      "display_name": "Python 3"
    }
  },
  "cells": [
    {
      "cell_type": "markdown",
      "metadata": {
        "id": "view-in-github",
        "colab_type": "text"
      },
      "source": [
        "<a href=\"https://colab.research.google.com/github/ankitcsr/image_segmentation/blob/master/Gland_Segmentation.ipynb\" target=\"_parent\"><img src=\"https://colab.research.google.com/assets/colab-badge.svg\" alt=\"Open In Colab\"/></a>"
      ]
    },
    {
      "cell_type": "code",
      "metadata": {
        "id": "3EJypd5dX841",
        "colab_type": "code",
        "trusted": true,
        "colab": {}
      },
      "source": [
        "!curl https://warwick.ac.uk/fac/sci/dcs/research/tia/glascontest/download/warwick_qu_dataset_released_2016_07_08.zip --output warwick_qu_dataset_released_2016_07_08.zip"
      ],
      "execution_count": 0,
      "outputs": []
    },
    {
      "cell_type": "code",
      "metadata": {
        "id": "sDOLwy2hYW_6",
        "colab_type": "code",
        "trusted": true,
        "colab": {}
      },
      "source": [
        "!ls"
      ],
      "execution_count": 0,
      "outputs": []
    },
    {
      "cell_type": "code",
      "metadata": {
        "id": "KMQjZ5MBYzIW",
        "colab_type": "code",
        "trusted": true,
        "colab": {}
      },
      "source": [
        "!unzip  warwick_qu_dataset_released_2016_07_08.zip"
      ],
      "execution_count": 0,
      "outputs": []
    },
    {
      "cell_type": "code",
      "metadata": {
        "id": "fnj_QEiJY_IN",
        "colab_type": "code",
        "trusted": true,
        "colab": {}
      },
      "source": [
        "!ls\n"
      ],
      "execution_count": 0,
      "outputs": []
    },
    {
      "cell_type": "code",
      "metadata": {
        "id": "CmX0bAzjZC1N",
        "colab_type": "code",
        "trusted": true,
        "colab": {}
      },
      "source": [
        "cd 'Warwick QU Dataset (Released 2016_07_08)'"
      ],
      "execution_count": 0,
      "outputs": []
    },
    {
      "cell_type": "code",
      "metadata": {
        "id": "iPS4B01HZMz2",
        "colab_type": "code",
        "trusted": true,
        "colab": {}
      },
      "source": [
        "import pandas as pd\n",
        "from PIL import Image\n"
      ],
      "execution_count": 0,
      "outputs": []
    },
    {
      "cell_type": "code",
      "metadata": {
        "id": "1OmGw0MiZ-KN",
        "colab_type": "code",
        "trusted": true,
        "colab": {}
      },
      "source": [
        "Image.open('train_2.bmp')"
      ],
      "execution_count": 0,
      "outputs": []
    },
    {
      "cell_type": "code",
      "metadata": {
        "id": "JUWMP-Pma3cT",
        "colab_type": "code",
        "trusted": true,
        "colab": {}
      },
      "source": [
        "import numpy as np\n",
        "import matplotlib.pyplot as plt\n",
        "from matplotlib.pyplot import imread,imshow\n",
        "from PIL import Image\n",
        "import torch\n",
        "from skimage import io, transform\n",
        "from torch.utils.data import Dataset, DataLoader\n",
        "from torchvision import transforms, utils\n",
        "device = torch.device(\"cuda:0\" if torch.cuda.is_available() else \"cpu\")\n"
      ],
      "execution_count": 0,
      "outputs": []
    },
    {
      "cell_type": "code",
      "metadata": {
        "trusted": true,
        "id": "Vg0IrsDqYr-m",
        "colab_type": "code",
        "colab": {}
      },
      "source": [
        "data=pd.read_csv('Grade.csv')\n",
        "len(data)"
      ],
      "execution_count": 0,
      "outputs": []
    },
    {
      "cell_type": "code",
      "metadata": {
        "trusted": true,
        "id": "SgIsexSSYr-t",
        "colab_type": "code",
        "colab": {}
      },
      "source": [
        ""
      ],
      "execution_count": 0,
      "outputs": []
    },
    {
      "cell_type": "code",
      "metadata": {
        "id": "cBufzBhked-P",
        "colab_type": "code",
        "trusted": true,
        "colab": {}
      },
      "source": [
        "class Train_dataset(Dataset):\n",
        "    def __init__(self,csv_path,transform_img):\n",
        "        self.data=pd.read_csv(csv_path)\n",
        "        self.train_data=self.data[self.data.name.str.match('train*')]\n",
        "        self.transform_img=transform_img\n",
        "    def __len__(self):\n",
        "        return len(self.train_data)\n",
        "\n",
        "    def __getitem__(self,index):\n",
        "        image_name=self.train_data.name.iloc[index]+'.bmp'\n",
        "        image=Image.open(image_name)\n",
        "        image=self.transform_img(image)\n",
        "        label_name=self.train_data[' grade (GlaS)'].iloc[0]\n",
        "        label=  1 if label_name == \" malignant\" else 0\n",
        "        return [image,label]\n",
        "    "
      ],
      "execution_count": 0,
      "outputs": []
    },
    {
      "cell_type": "code",
      "metadata": {
        "id": "8E3Ucsd7qyX-",
        "colab_type": "code",
        "trusted": true,
        "colab": {}
      },
      "source": [
        "class Valid_dataset(Dataset):\n",
        "    def __init__(self,csv_path,transform_img):\n",
        "        self.data=pd.read_csv(csv_path)\n",
        "        self.train_data=self.data[self.data.name.str.match('testA*')]\n",
        "        self.transform_img=transform_img\n",
        "    \n",
        "    def __len__(self):\n",
        "        return len(self.train_data)\n",
        "\n",
        "    def __getitem__(self, index):\n",
        "        image_name=self.train_data.name.iloc[index]+'.bmp'\n",
        "        image=Image.open(image_name)\n",
        "        image=self.transform_img(image)\n",
        "        label_name=self.train_data[' grade (GlaS)'].iloc[0]\n",
        "        label=  1 if label_name == \" malignant\" else 0\n",
        "        return [image,label]\n",
        "    "
      ],
      "execution_count": 0,
      "outputs": []
    },
    {
      "cell_type": "code",
      "metadata": {
        "id": "c0RGXL8Gq0D2",
        "colab_type": "code",
        "trusted": true,
        "colab": {}
      },
      "source": [
        "class Test_dataset(Dataset):\n",
        "    def __init__(self,csv_path,transform_img):\n",
        "        self.data=pd.read_csv(csv_path)\n",
        "        self.train_data=self.data[self.data.name.str.match('testB*')]\n",
        "        self.transform_img=transform_img\n",
        "    \n",
        "    def __len__(self):\n",
        "        return len(self.train_data)\n",
        "\n",
        "    def __getitem__(self, index):\n",
        "        image_name=self.train_data.name.iloc[index]+'.bmp'\n",
        "        image=Image.open(image_name)\n",
        "        image=self.transform_img(image)\n",
        "        label_name=self.train_data[' grade (GlaS)'].iloc[0]\n",
        "        label=  1 if label_name == \" malignant\" else 0\n",
        "        return [image,label]\n",
        "    \n"
      ],
      "execution_count": 0,
      "outputs": []
    },
    {
      "cell_type": "code",
      "metadata": {
        "id": "ufyp1OI_tKBt",
        "colab_type": "code",
        "trusted": true,
        "colab": {}
      },
      "source": [
        "from torchvision import transforms"
      ],
      "execution_count": 0,
      "outputs": []
    },
    {
      "cell_type": "code",
      "metadata": {
        "id": "MmKY9lj5tlBl",
        "colab_type": "code",
        "trusted": true,
        "colab": {}
      },
      "source": [
        "transform_img=transforms.Compose([\n",
        "    transforms.Resize((250,250)),\n",
        "    transforms.RandomHorizontalFlip(),\n",
        "    transforms.ToTensor(),\n",
        "    transforms.ColorJitter()\n",
        "    transforms.Normalize(mean=[0.485, 0.456, 0.406],std=[0.229, 0.224, 0.225])\n",
        "])"
      ],
      "execution_count": 0,
      "outputs": []
    },
    {
      "cell_type": "code",
      "metadata": {
        "trusted": true,
        "id": "bpUj6ebNYr_w",
        "colab_type": "code",
        "colab": {}
      },
      "source": [
        "transform_test=transforms.Compose([\n",
        "    transforms.ToTensor(),\n",
        "    transforms.Normalize(mean=[0.485, 0.456, 0.406],std=[0.229, 0.224, 0.225])\n",
        "])"
      ],
      "execution_count": 0,
      "outputs": []
    },
    {
      "cell_type": "code",
      "metadata": {
        "id": "eVz1X1Boq5fd",
        "colab_type": "code",
        "trusted": true,
        "colab": {}
      },
      "source": [
        "train_dataset=Train_dataset('Grade.csv',transform_img)\n",
        "valid_dataset=Valid_dataset('Grade.csv',transform_img)\n",
        "test_dataset=Test_dataset('Grade.csv',transform_test)"
      ],
      "execution_count": 0,
      "outputs": []
    },
    {
      "cell_type": "code",
      "metadata": {
        "id": "RtsGjW2EtFxJ",
        "colab_type": "code",
        "trusted": true,
        "colab": {}
      },
      "source": [
        "params = {'batch_size': 1,'shuffle': True}\n",
        "max_epochs = 10\n",
        "\n",
        "training_generator = DataLoader(train_dataset, **params)\n",
        "valid_generator = DataLoader(valid_dataset, **params)\n",
        "test_generator = DataLoader(test_dataset, **params)"
      ],
      "execution_count": 0,
      "outputs": []
    },
    {
      "cell_type": "code",
      "metadata": {
        "id": "d8x-yWSStF3d",
        "colab_type": "code",
        "trusted": true,
        "colab": {}
      },
      "source": [
        "\n",
        "#for local_batch, local_labels in valid_generator:\n",
        "        "
      ],
      "execution_count": 0,
      "outputs": []
    },
    {
      "cell_type": "code",
      "metadata": {
        "id": "gTDMmli-kz3V",
        "colab_type": "code",
        "trusted": true,
        "colab": {}
      },
      "source": [
        "import torchvision.models as models\n"
      ],
      "execution_count": 0,
      "outputs": []
    },
    {
      "cell_type": "code",
      "metadata": {
        "id": "3kJDru_hpnG1",
        "colab_type": "code",
        "trusted": true,
        "colab": {}
      },
      "source": [
        "resnet18 = models.resnet18(pretrained=True)\n"
      ],
      "execution_count": 0,
      "outputs": []
    },
    {
      "cell_type": "code",
      "metadata": {
        "trusted": true,
        "id": "fHXjRLRkYsAo",
        "colab_type": "code",
        "colab": {}
      },
      "source": [
        ""
      ],
      "execution_count": 0,
      "outputs": []
    },
    {
      "cell_type": "code",
      "metadata": {
        "trusted": true,
        "id": "q_qm0IWXYsAz",
        "colab_type": "code",
        "colab": {}
      },
      "source": [
        "import torch.nn as nn"
      ],
      "execution_count": 0,
      "outputs": []
    },
    {
      "cell_type": "code",
      "metadata": {
        "id": "UzYLX0j4pzBA",
        "colab_type": "code",
        "trusted": true,
        "colab": {}
      },
      "source": [
        "resnet18.fc=nn.Linear(in_features=512, out_features=2, bias=True)"
      ],
      "execution_count": 0,
      "outputs": []
    },
    {
      "cell_type": "code",
      "metadata": {
        "trusted": true,
        "id": "H2kF145PYsBM",
        "colab_type": "code",
        "colab": {}
      },
      "source": [
        "model=resnet18"
      ],
      "execution_count": 0,
      "outputs": []
    },
    {
      "cell_type": "code",
      "metadata": {
        "trusted": true,
        "id": "9Qa1lHonYsBW",
        "colab_type": "code",
        "colab": {}
      },
      "source": [
        "model=model.to(device)"
      ],
      "execution_count": 0,
      "outputs": []
    },
    {
      "cell_type": "code",
      "metadata": {
        "trusted": true,
        "id": "AItYAWDeYsBd",
        "colab_type": "code",
        "colab": {}
      },
      "source": [
        "for name,param in model.named_parameters():\n",
        "    if param.requires_grad == True:\n",
        "        print(name)"
      ],
      "execution_count": 0,
      "outputs": []
    },
    {
      "cell_type": "code",
      "metadata": {
        "trusted": true,
        "id": "mQunPtRFYsBg",
        "colab_type": "code",
        "colab": {}
      },
      "source": [
        "#for name,param in list(model.named_parameters())[-8:]:\n",
        "#    param.requires_grad = False"
      ],
      "execution_count": 0,
      "outputs": []
    },
    {
      "cell_type": "code",
      "metadata": {
        "trusted": true,
        "id": "pLAgLeEGYsBp",
        "colab_type": "code",
        "colab": {}
      },
      "source": [
        "#for name,param in model.named_parameters():\n",
        "#    if param.requires_grad == True:\n",
        "#        print(name)"
      ],
      "execution_count": 0,
      "outputs": []
    },
    {
      "cell_type": "code",
      "metadata": {
        "trusted": true,
        "id": "uXhj3qf-YsB0",
        "colab_type": "code",
        "colab": {}
      },
      "source": [
        "params_to_update = []\n",
        "for name,param in model.named_parameters():\n",
        "    if param.requires_grad == True:\n",
        "        params_to_update.append(param)"
      ],
      "execution_count": 0,
      "outputs": []
    },
    {
      "cell_type": "code",
      "metadata": {
        "trusted": true,
        "id": "4BxnlJrCYsCC",
        "colab_type": "code",
        "colab": {}
      },
      "source": [
        "import torch.optim as optim"
      ],
      "execution_count": 0,
      "outputs": []
    },
    {
      "cell_type": "code",
      "metadata": {
        "trusted": true,
        "id": "jOK2E-baYsCH",
        "colab_type": "code",
        "colab": {}
      },
      "source": [
        ""
      ],
      "execution_count": 0,
      "outputs": []
    },
    {
      "cell_type": "code",
      "metadata": {
        "trusted": true,
        "id": "dwi-KRC_YsCP",
        "colab_type": "code",
        "colab": {}
      },
      "source": [
        "import time\n",
        "import copy\n"
      ],
      "execution_count": 0,
      "outputs": []
    },
    {
      "cell_type": "code",
      "metadata": {
        "trusted": true,
        "id": "PyUbichkYsCX",
        "colab_type": "code",
        "colab": {}
      },
      "source": [
        "def train_model(model, dataloaders, criterion, optimizer, num_epochs=25):\n",
        "    since = time.time()\n",
        "\n",
        "    val_loss_history = []\n",
        "    train_loss_history= []\n",
        "\n",
        "    best_model_wts = copy.deepcopy(model.state_dict())\n",
        "    best_loss_so_far = 9999999999\n",
        "    for epoch in range(num_epochs):\n",
        "        print('Epoch {}/{}'.format(epoch, num_epochs - 1))\n",
        "        print('-' * 10)\n",
        "\n",
        "        # Each epoch has a training and validation phase\n",
        "        for phase in ['train','val']:\n",
        "            if phase == 'train':\n",
        "                model.train()  # Set model to training mode\n",
        "            else:\n",
        "                model.eval()   # Set model to evaluate mode\n",
        "\n",
        "            running_loss = 0.0\n",
        "            running_corrects = 0\n",
        "\n",
        "            # Iterate over data.\n",
        "            for inputs, labels in dataloaders[phase]:\n",
        "                inputs = inputs.to(device)\n",
        "                labels = labels.to(device)\n",
        "\n",
        "                # zero the parameter gradients\n",
        "                optimizer.zero_grad()\n",
        "\n",
        "                # forward\n",
        "                # track history if only in train\n",
        "                with torch.set_grad_enabled(phase == 'train'):\n",
        "                    outputs = model(inputs)\n",
        "                    loss = criterion(outputs, labels)\n",
        "\n",
        "                    # backward + optimize only if in training phase\n",
        "                    if phase == 'train':\n",
        "                        loss.backward()\n",
        "                        optimizer.step()\n",
        "\n",
        "#to be done avg loss =loss_sum/count after each epoche\n",
        "#line below this to be edited \n",
        "            print('{} Loss: {:.4f} '.format(phase, loss))\n",
        "\n",
        "            # deep copy the model\n",
        "            if phase == 'val' and loss < best_loss_so_far:\n",
        "                best_loss_so_far=loss\n",
        "                best_model_wts = copy.deepcopy(model.state_dict())\n",
        "            if phase == 'val':\n",
        "                val_loss_history.append(loss)\n",
        "            if phase =='train':\n",
        "                with torch.no_grad(): \n",
        "                    train_loss_history.append(loss)\n",
        "                \n",
        "\n",
        "        print()\n",
        "\n",
        "    time_elapsed = time.time() - since\n",
        "    print('Training complete in {:.0f}m {:.0f}s'.format(time_elapsed // 60, time_elapsed % 60))\n",
        "    print('Best loss in validation set : {:4f}'.format(best_loss_so_far))\n",
        "\n",
        "    # load best model weights\n",
        "    model.load_state_dict(best_model_wts)\n",
        "    return model, val_loss_history,train_loss_history"
      ],
      "execution_count": 0,
      "outputs": []
    },
    {
      "cell_type": "code",
      "metadata": {
        "trusted": true,
        "id": "a9kdCl-ZYsCb",
        "colab_type": "code",
        "colab": {}
      },
      "source": [
        "dataloaders={'train':training_generator,'val':valid_generator}\n",
        "optimizer = optim.Adam(params_to_update,lr=1e-7)\n",
        "criterion = nn.CrossEntropyLoss()\n",
        "\n",
        "num_epochs=10\n",
        "model_classification,v_hist,t_hist=train_model(model, dataloaders, criterion, optimizer, num_epochs=num_epochs)"
      ],
      "execution_count": 0,
      "outputs": []
    },
    {
      "cell_type": "code",
      "metadata": {
        "trusted": true,
        "id": "ekS4EybeYsCg",
        "colab_type": "code",
        "colab": {}
      },
      "source": [
        "vhist = []\n",
        "\n",
        "vhist = [h.cpu().numpy() for h in v_hist]\n",
        "thist = []\n",
        "\n",
        "thist = [h.cpu().detach().numpy() for h in t_hist]\n",
        "\n",
        "plt.title(\"Loss vs. Number of Training Epochs\")\n",
        "plt.xlabel(\"Training Epochs\")\n",
        "plt.ylabel(\"Validation Loss\")\n",
        "plt.plot(range(1,num_epochs+1),vhist,label=\"Validation loss \")\n",
        "plt.plot(range(1,num_epochs+1),thist,label=\"Train loss\")\n",
        "\n",
        "plt.xticks(np.arange(1, num_epochs+1, 1.0))\n",
        "plt.legend()\n",
        "plt.show()"
      ],
      "execution_count": 0,
      "outputs": []
    },
    {
      "cell_type": "code",
      "metadata": {
        "trusted": true,
        "id": "hdGzg9EqYsCo",
        "colab_type": "code",
        "colab": {}
      },
      "source": [
        ""
      ],
      "execution_count": 0,
      "outputs": []
    },
    {
      "cell_type": "code",
      "metadata": {
        "trusted": true,
        "id": "0gqFIfouYsCs",
        "colab_type": "code",
        "colab": {}
      },
      "source": [
        "#segmentation"
      ],
      "execution_count": 0,
      "outputs": []
    },
    {
      "cell_type": "code",
      "metadata": {
        "trusted": true,
        "id": "rSut43EiYsCu",
        "colab_type": "code",
        "colab": {}
      },
      "source": [
        "import torch\n",
        "import torch.nn as nn\n",
        "from torchvision import models\n",
        "\n",
        "def convrelu(in_channels, out_channels, kernel, padding):\n",
        "    return nn.Sequential(\n",
        "        nn.Conv2d(in_channels, out_channels, kernel, padding=padding),\n",
        "        nn.ReLU(inplace=True),\n",
        "    )\n",
        "\n",
        "\n",
        "class ResNetUNet(nn.Module):\n",
        "    def __init__(self, n_class):\n",
        "        super().__init__()\n",
        "\n",
        "        self.base_model = models.resnet18(pretrained=True)\n",
        "        self.base_layers = list(self.base_model.children())\n",
        "\n",
        "        self.layer0 = nn.Sequential(*self.base_layers[:3]) # size=(N, 64, x.H/2, x.W/2)\n",
        "        self.layer0_1x1 = convrelu(64, 64, 1, 0)\n",
        "        self.layer1 = nn.Sequential(*self.base_layers[3:5]) # size=(N, 64, x.H/4, x.W/4)\n",
        "        self.layer1_1x1 = convrelu(64, 64, 1, 0)\n",
        "        self.layer2 = self.base_layers[5]  # size=(N, 128, x.H/8, x.W/8)\n",
        "        self.layer2_1x1 = convrelu(128, 128, 1, 0)\n",
        "        self.layer3 = self.base_layers[6]  # size=(N, 256, x.H/16, x.W/16)\n",
        "        self.layer3_1x1 = convrelu(256, 256, 1, 0)\n",
        "        self.layer4 = self.base_layers[7]  # size=(N, 512, x.H/32, x.W/32)\n",
        "        self.layer4_1x1 = convrelu(512, 512, 1, 0)\n",
        "\n",
        "        self.upsample = nn.Upsample(scale_factor=2, mode='bilinear', align_corners=True)\n",
        "\n",
        "        self.conv_up3 = convrelu(256 + 512, 512, 3, 1)\n",
        "        self.conv_up2 = convrelu(128 + 512, 256, 3, 1)\n",
        "        self.conv_up1 = convrelu(64 + 256, 256, 3, 1)\n",
        "        self.conv_up0 = convrelu(64 + 256, 128, 3, 1)\n",
        "\n",
        "        self.conv_original_size0 = convrelu(3, 64, 3, 1)\n",
        "        self.conv_original_size1 = convrelu(64, 64, 3, 1)\n",
        "        self.conv_original_size2 = convrelu(64 + 128, 64, 3, 1)\n",
        "\n",
        "        self.conv_last = nn.Conv2d(64, n_class, 1)\n",
        "\n",
        "    def forward(self, input):\n",
        "        x_original = self.conv_original_size0(input)\n",
        "        x_original = self.conv_original_size1(x_original)\n",
        "\n",
        "        layer0 = self.layer0(input)\n",
        "        layer1 = self.layer1(layer0)\n",
        "        layer2 = self.layer2(layer1)\n",
        "        layer3 = self.layer3(layer2)\n",
        "        layer4 = self.layer4(layer3)\n",
        "\n",
        "        layer4 = self.layer4_1x1(layer4)\n",
        "        x = self.upsample(layer4)\n",
        "        layer3 = self.layer3_1x1(layer3)\n",
        "        x = torch.cat([x, layer3], dim=1)\n",
        "        x = self.conv_up3(x)\n",
        "\n",
        "        x = self.upsample(x)\n",
        "        layer2 = self.layer2_1x1(layer2)\n",
        "        x = torch.cat([x, layer2], dim=1)\n",
        "        x = self.conv_up2(x)\n",
        "\n",
        "        x = self.upsample(x)\n",
        "        layer1 = self.layer1_1x1(layer1)\n",
        "        x = torch.cat([x, layer1], dim=1)\n",
        "        x = self.conv_up1(x)\n",
        "\n",
        "        x = self.upsample(x)\n",
        "        layer0 = self.layer0_1x1(layer0)\n",
        "        x = torch.cat([x, layer0], dim=1)\n",
        "        x = self.conv_up0(x)\n",
        "\n",
        "        x = self.upsample(x)\n",
        "        x = torch.cat([x, x_original], dim=1)\n",
        "        x = self.conv_original_size2(x)\n",
        "\n",
        "        out = self.conv_last(x)\n",
        "\n",
        "        return out"
      ],
      "execution_count": 0,
      "outputs": []
    },
    {
      "cell_type": "code",
      "metadata": {
        "trusted": true,
        "id": "1J4jigENYsCy",
        "colab_type": "code",
        "colab": {}
      },
      "source": [
        "def dice_loss(pred, target):\n",
        "    smooth = 1.\n",
        "\n",
        "    # have to use contiguous since they may from a torch.view op\n",
        "    iflat = pred.contiguous().view(-1)\n",
        "    tflat = target.contiguous().view(-1)\n",
        "    intersection = (iflat * tflat).sum()\n",
        "\n",
        "    A_sum = torch.sum(iflat * iflat)\n",
        "    B_sum = torch.sum(tflat * tflat)\n",
        "    \n",
        "    return 1 - ((2. * intersection + smooth) / (A_sum + B_sum + smooth) )\n",
        "\n",
        "        "
      ],
      "execution_count": 0,
      "outputs": []
    },
    {
      "cell_type": "code",
      "metadata": {
        "trusted": true,
        "id": "PE0z9F3MYsC2",
        "colab_type": "code",
        "colab": {}
      },
      "source": [
        "model_seg = ResNetUNet(n_class=1)\n",
        "model_seg=model_seg.to(device)"
      ],
      "execution_count": 0,
      "outputs": []
    },
    {
      "cell_type": "code",
      "metadata": {
        "trusted": true,
        "id": "UWFmfhkoYsC9",
        "colab_type": "code",
        "colab": {}
      },
      "source": [
        "class my_sigmoid_layer(nn.Module):\n",
        "    def __init__(self,):\n",
        "        super(my_sigmoid_layer,self).__init__()\n",
        "    def forward(self,input):\n",
        "        return F.sigmoid(input) \n",
        "    \n",
        "last_layer=my_sigmoid_layer()   \n",
        "model_seg = nn.Sequential(model_seg,last_layer)"
      ],
      "execution_count": 0,
      "outputs": []
    },
    {
      "cell_type": "code",
      "metadata": {
        "trusted": true,
        "id": "ie7IDgSnYsDD",
        "colab_type": "code",
        "colab": {}
      },
      "source": [
        ""
      ],
      "execution_count": 0,
      "outputs": []
    },
    {
      "cell_type": "code",
      "metadata": {
        "trusted": true,
        "id": "MviMz-aZYsDO",
        "colab_type": "code",
        "colab": {}
      },
      "source": [
        "class Train_dataset_seg(Dataset):\n",
        "    def __init__(self,csv_path,transform_img,transform_target):\n",
        "        self.data=pd.read_csv(csv_path)\n",
        "        self.train_data=self.data[self.data.name.str.match('train*')]\n",
        "        self.transform_img=transform_img\n",
        "        self.transform_target=transform_target\n",
        "    def __len__(self):\n",
        "        return len(self.train_data)\n",
        "\n",
        "    def __getitem__(self,index):\n",
        "        image_name=self.train_data.name.iloc[index]\n",
        "        image=Image.open(image_name+'.bmp')\n",
        "        image=self.transform_img(image)\n",
        "        label=Image.open(image_name+'_anno.bmp')\n",
        "        label=self.transform_target(label)\n",
        "        t = torch.Tensor([0]) # threshold\n",
        "        out = (label > t).float() * 1\n",
        "        return [image,out]"
      ],
      "execution_count": 0,
      "outputs": []
    },
    {
      "cell_type": "code",
      "metadata": {
        "trusted": true,
        "id": "jQZXPfTLYsDU",
        "colab_type": "code",
        "colab": {}
      },
      "source": [
        ""
      ],
      "execution_count": 0,
      "outputs": []
    },
    {
      "cell_type": "code",
      "metadata": {
        "trusted": true,
        "id": "E5ag_uwMYsDX",
        "colab_type": "code",
        "colab": {}
      },
      "source": [
        "class Valid_dataset_seg(Dataset):\n",
        "    def __init__(self,csv_path,transform_img,transform_target):\n",
        "        self.data=pd.read_csv(csv_path)\n",
        "        self.train_data=self.data[self.data.name.str.match('testA*')]\n",
        "        self.transform_img=transform_img\n",
        "        self.transform_target=transform_target\n",
        "    def __len__(self):\n",
        "        return len(self.train_data)\n",
        "\n",
        "    def __getitem__(self,index):\n",
        "        image_name=self.train_data.name.iloc[index]\n",
        "        image=Image.open(image_name+'.bmp')\n",
        "        image=self.transform_img(image)\n",
        "        label=Image.open(image_name+'_anno.bmp')\n",
        "        label=self.transform_target(label)\n",
        "        t = torch.Tensor([0])  # threshold\n",
        "        out = (label > t).float() * 1\n",
        "        return [image,out]"
      ],
      "execution_count": 0,
      "outputs": []
    },
    {
      "cell_type": "code",
      "metadata": {
        "trusted": true,
        "id": "DPBBW51WYsDe",
        "colab_type": "code",
        "colab": {}
      },
      "source": [
        "transform_img=transforms.Compose([\n",
        "    transforms.Resize((224,224)),\n",
        "    transforms.ToTensor(),\n",
        "    transforms.Normalize(mean=[0.485, 0.456, 0.406],std=[0.229, 0.224, 0.225])\n",
        "])\n",
        "transform_target=transforms.Compose([\n",
        "    transforms.Resize((224,224)),\n",
        "    transforms.ToTensor(),\n",
        "])"
      ],
      "execution_count": 0,
      "outputs": []
    },
    {
      "cell_type": "code",
      "metadata": {
        "trusted": true,
        "id": "HDeLZrjRYsDi",
        "colab_type": "code",
        "colab": {}
      },
      "source": [
        "train_dataset=Train_dataset_seg('Grade.csv',transform_img,transform_target)\n",
        "valid_dataset=Valid_dataset_seg('Grade.csv',transform_img,transform_target)\n",
        "\n",
        "params = {'batch_size': 2,'shuffle': True}\n",
        "\n",
        "training_generator = DataLoader(train_dataset, **params)\n",
        "valid_generator = DataLoader(valid_dataset, **params)\n"
      ],
      "execution_count": 0,
      "outputs": []
    },
    {
      "cell_type": "code",
      "metadata": {
        "trusted": true,
        "id": "ttsNwAg8YsDn",
        "colab_type": "code",
        "colab": {}
      },
      "source": [
        "pip install torchsummary"
      ],
      "execution_count": 0,
      "outputs": []
    },
    {
      "cell_type": "code",
      "metadata": {
        "trusted": true,
        "id": "-d3HBig9YsDq",
        "colab_type": "code",
        "colab": {}
      },
      "source": [
        "from torchsummary import summary\n",
        "summary(model_seg, input_size=(3, 224, 224))"
      ],
      "execution_count": 0,
      "outputs": []
    },
    {
      "cell_type": "code",
      "metadata": {
        "trusted": true,
        "id": "XwD8m-KjYsDt",
        "colab_type": "code",
        "colab": {}
      },
      "source": [
        "def train_model_seg(model, dataloaders, criterion, optimizer, num_epochs=25):\n",
        "    since = time.time()\n",
        "\n",
        "    val_loss_history = []\n",
        "    train_loss_history= []\n",
        "\n",
        "    best_model_wts = copy.deepcopy(model.state_dict())\n",
        "    best_loss_so_far = 9999999999\n",
        "    for epoch in range(num_epochs):\n",
        "        print('Epoch {}/{}'.format(epoch, num_epochs - 1))\n",
        "        print('-' * 10)\n",
        "\n",
        "        # Each epoch has a training and validation phase\n",
        "        for phase in ['train','val']:\n",
        "            if phase == 'train':\n",
        "                model.train()  # Set model to training mode\n",
        "            else:\n",
        "                model.eval()   # Set model to evaluate mode\n",
        "\n",
        "            # Iterate over data.\n",
        "            for inputs, labels in dataloaders[phase]:\n",
        "                inputs = inputs.to(device)\n",
        "                labels = labels.to(device)\n",
        "\n",
        "                # zero the parameter gradients\n",
        "                optimizer.zero_grad()\n",
        "\n",
        "                # forward\n",
        "                # track history if only in train\n",
        "                with torch.set_grad_enabled(phase == 'train'):\n",
        "                    outputs = model(inputs)\n",
        "                    #outputs=F.log_softmax(outputs)\n",
        "                    outputs = m(outputs)\n",
        "                    bceLoss=nn.BCELoss()\n",
        "                    loss = criterion(outputs, labels)+bceLoss(outputs, labels)\n",
        "\n",
        "                    # backward + optimize only if in training phase\n",
        "                    if phase == 'train':\n",
        "                        loss.backward()\n",
        "                        optimizer.step()\n",
        "\n",
        "\n",
        "            print('{} Loss: {:.4f} '.format(phase, loss))\n",
        "\n",
        "            # deep copy the model\n",
        "            if phase == 'val' and loss < best_loss_so_far:\n",
        "                best_loss_so_far=loss\n",
        "                best_model_wts = copy.deepcopy(model.state_dict())\n",
        "            if phase == 'val':\n",
        "                val_loss_history.append(loss)\n",
        "            if phase =='train':\n",
        "                with torch.no_grad(): \n",
        "                    train_loss_history.append(loss)\n",
        "                \n",
        "\n",
        "        print()\n",
        "\n",
        "    time_elapsed = time.time() - since\n",
        "    print('Training complete in {:.0f}m {:.0f}s'.format(time_elapsed // 60, time_elapsed % 60))\n",
        "    print('Best loss in validation set : {:4f}'.format(best_loss_so_far))\n",
        "\n",
        "    # load best model weights\n",
        "    model.load_state_dict(best_model_wts)\n",
        "    return model, val_loss_history,train_loss_history"
      ],
      "execution_count": 0,
      "outputs": []
    },
    {
      "cell_type": "code",
      "metadata": {
        "trusted": true,
        "id": "veO1RUDCYsDx",
        "colab_type": "code",
        "colab": {}
      },
      "source": [
        "params_to_update = []\n",
        "for name,param in model_seg.named_parameters():\n",
        "    if param.requires_grad == True:\n",
        "        params_to_update.append(param)"
      ],
      "execution_count": 0,
      "outputs": []
    },
    {
      "cell_type": "code",
      "metadata": {
        "trusted": true,
        "id": "90v0O_RpYsD1",
        "colab_type": "code",
        "colab": {}
      },
      "source": [
        "dataloaders={'train':training_generator,'val':valid_generator}\n",
        "optimizer = optim.Adam(params_to_update,lr=1e-4)\n",
        "criterion = dice_loss # + bce loss in model_seg loss calculation\n",
        "num_epochs=50\n",
        "model_best,v_hist,t_hist=train_model_seg(model_seg, dataloaders, criterion, optimizer, num_epochs=num_epochs)"
      ],
      "execution_count": 0,
      "outputs": []
    },
    {
      "cell_type": "code",
      "metadata": {
        "trusted": true,
        "id": "3JnIbaoBYsD4",
        "colab_type": "code",
        "colab": {}
      },
      "source": [
        "\n",
        "for inputs, labels in valid_generator:\n",
        "    inputs=inputs.to(device)\n",
        "    \n",
        "    output=model_best(inputs).cpu()\n",
        "    #m = nn.Sigmoid()\n",
        "    #output = m(output)\n",
        "    #output=output*255\n",
        "    #t = torch.Tensor([0])  # threshold\n",
        "    #out = (output[0] > t).float() * 255\n",
        "    img = np.transpose(output[0], (1,2,0))\n",
        "    img=img.squeeze()\n",
        "    plt.imshow(img)\n",
        "    plt.show()\n",
        "    break\n",
        "\n",
        "#annotation on validation set"
      ],
      "execution_count": 0,
      "outputs": []
    },
    {
      "cell_type": "code",
      "metadata": {
        "trusted": true,
        "id": "cwggc8IXYsD7",
        "colab_type": "code",
        "colab": {}
      },
      "source": [
        "output[0]"
      ],
      "execution_count": 0,
      "outputs": []
    },
    {
      "cell_type": "code",
      "metadata": {
        "trusted": true,
        "id": "iE5PMPKeYsD9",
        "colab_type": "code",
        "colab": {}
      },
      "source": [
        "vhist = []\n",
        "\n",
        "vhist = [h.cpu().numpy() for h in v_hist]\n",
        "thist = []\n",
        "\n",
        "thist = [h.cpu().detach().numpy() for h in t_hist]\n",
        "\n",
        "plt.title(\"Loss vs. Number of Training Epochs\")\n",
        "plt.xlabel(\"Training Epochs\")\n",
        "plt.ylabel(\"Validation Loss\")\n",
        "plt.plot(range(1,num_epochs+1),vhist,label=\"Validation loss \")\n",
        "plt.plot(range(1,num_epochs+1),thist,label=\"Train loss\")\n",
        "\n",
        "plt.xticks(np.arange(1, num_epochs+1, 1.0))\n",
        "plt.legend()\n",
        "plt.show()"
      ],
      "execution_count": 0,
      "outputs": []
    },
    {
      "cell_type": "code",
      "metadata": {
        "trusted": true,
        "id": "X551XhOzYsEA",
        "colab_type": "code",
        "colab": {}
      },
      "source": [
        "Image.open('testA_5.bmp')"
      ],
      "execution_count": 0,
      "outputs": []
    },
    {
      "cell_type": "code",
      "metadata": {
        "trusted": true,
        "id": "MDmdvbAFYsED",
        "colab_type": "code",
        "colab": {}
      },
      "source": [
        "#original annotation  for testA_5\n",
        "image_name='testA_5_anno'\n",
        "image=Image.open(image_name+'.bmp')\n",
        "label=transform_target(image)\n",
        "t = torch.Tensor([0])  # threshold\n",
        "out = (label > t).float() * 255\n",
        "img = np.transpose(out, (1,2,0))\n",
        "img=img.squeeze()\n",
        "plt.imshow(img)\n",
        "plt.show()"
      ],
      "execution_count": 0,
      "outputs": []
    },
    {
      "cell_type": "code",
      "metadata": {
        "trusted": true,
        "id": "hwAV9Ck_YsEG",
        "colab_type": "code",
        "colab": {}
      },
      "source": [
        "image_name='testA_5'\n",
        "image=Image.open(image_name+'.bmp')\n",
        "image=transform_img(image)\n",
        "image=image.unsqueeze(0)\n",
        "image=image.to(device)\n",
        "output=model_best(image)\n",
        "output=output.cpu()\n",
        "#m = nn.Sigmoid()\n",
        "#output = m(output)\n",
        "#output=output*255\n",
        "#t = torch.Tensor([0])  # threshold\n",
        "#out = (output[0] > t).float() * 255\n",
        "img = np.transpose(output[0], (1,2,0))\n",
        "img=img.squeeze()\n",
        "plt.imshow(img)\n",
        "plt.show()\n",
        "#predicted testA_5 annotation"
      ],
      "execution_count": 0,
      "outputs": []
    },
    {
      "cell_type": "code",
      "metadata": {
        "trusted": true,
        "id": "-vTZ0xRPYsEO",
        "colab_type": "code",
        "colab": {}
      },
      "source": [
        ""
      ],
      "execution_count": 0,
      "outputs": []
    }
  ]
}